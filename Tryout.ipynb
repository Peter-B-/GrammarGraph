{
 "cells": [
  {
   "cell_type": "code",
   "execution_count": 1,
   "metadata": {
    "dotnet_interactive": {
     "language": "fsharp"
    },
    "polyglot_notebook": {
     "kernelName": "fsharp"
    }
   },
   "outputs": [],
   "source": [
    "#r \"./GrammarGraph/bin/Debug/net7.0/GrammarGraph.dll\"\n",
    "#r \"./GrammarGraph.Data/bin/Debug/net7.0/GrammarGraph.Data.dll\"\n",
    "open GrammarGraph\n",
    "open GrammarGraph.Data"
   ]
  },
  {
   "cell_type": "code",
   "execution_count": 4,
   "metadata": {
    "dotnet_interactive": {
     "language": "fsharp"
    },
    "polyglot_notebook": {
     "kernelName": "fsharp"
    }
   },
   "outputs": [
    {
     "name": "stdout",
     "output_type": "stream",
     "text": [
      "{ Carat = 0.23\n",
      "  Cut = Ideal\n",
      "  Color = E\n",
      "  Clarity = SI2\n",
      "  DepthRatio = 61.5\n",
      "  Table = 55.0\n",
      "  Price = 326.0\n",
      "  Length = 3.95\n",
      "  Width = 3.98\n",
      "  Depth = 2.43 }\n"
     ]
    }
   ],
   "source": [
    "let diamonds = DataSets.diamonds ()\n",
    "\n",
    "for d in diamonds |> List.truncate 1 do\n",
    "    printfn \"%s\" (d.ToString())\n",
    "    d.Carat |> ignore\n",
    "    d.Clarity |> ignore"
   ]
  },
  {
   "cell_type": "code",
   "execution_count": 5,
   "metadata": {
    "dotnet_interactive": {
     "language": "fsharp"
    },
    "polyglot_notebook": {
     "kernelName": "fsharp"
    }
   },
   "outputs": [],
   "source": [
    "let graph =\n",
    "    diamonds\n",
    "    |> Grammar.graph"
   ]
  }
 ],
 "metadata": {
  "kernelspec": {
   "display_name": ".NET (F#)",
   "language": "F#",
   "name": ".net-fsharp"
  },
  "language_info": {
   "name": "polyglot-notebook"
  },
  "polyglot_notebook": {
   "kernelInfo": {
    "defaultKernelName": "fsharp",
    "items": [
     {
      "aliases": [],
      "languageName": "fsharp",
      "name": "fsharp"
     }
    ]
   }
  }
 },
 "nbformat": 4,
 "nbformat_minor": 2
}
